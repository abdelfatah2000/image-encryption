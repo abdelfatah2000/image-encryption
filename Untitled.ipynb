{
  "nbformat": 4,
  "nbformat_minor": 0,
  "metadata": {
    "colab": {
      "provenance": [],
      "toc_visible": true,
      "authorship_tag": "ABX9TyOADVIm4qPXkZYDrJwO4J82",
      "include_colab_link": true
    },
    "kernelspec": {
      "name": "python3",
      "display_name": "Python 3"
    },
    "language_info": {
      "name": "python"
    }
  },
  "cells": [
    {
      "cell_type": "markdown",
      "metadata": {
        "id": "view-in-github",
        "colab_type": "text"
      },
      "source": [
        "<a href=\"https://colab.research.google.com/github/abdelfatah2000/image-encryption/blob/main/Untitled.ipynb\" target=\"_parent\"><img src=\"https://colab.research.google.com/assets/colab-badge.svg\" alt=\"Open In Colab\"/></a>"
      ]
    },
    {
      "cell_type": "code",
      "execution_count": null,
      "metadata": {
        "id": "LSSJI4DqIePM"
      },
      "outputs": [],
      "source": [
        "from PIL import Image\n",
        "import numpy as np\n",
        "import logging as log\n",
        "import time\n",
        "import cv2\n",
        "from google.colab import drive\n",
        "log.basicConfig(\n",
        "    format=\"%(asctime)s %(levelname)s: %(message)s\",\n",
        "    datefmt=\"%Y-%m-%dT%H:%M:%SZ\",\n",
        "    level=log.ERROR\n",
        ")"
      ]
    },
    {
      "cell_type": "code",
      "source": [
        "EXTRA_DIFFUSE = True\n",
        "def removeDuplicates(array):\n",
        "    newArr = []\n",
        "    for i in array:\n",
        "        if i not in newArr:\n",
        "            newArr.append(i)\n",
        "    return newArr\n",
        "def printMat(mat):\n",
        "\tfor m in mat:\n",
        "\t\tprint(m)\n",
        "def readRGB(filename,resize=False):\n",
        "    img = Image.open(filename)\n",
        "    if resize:\n",
        "        img = img.resize((16,16),Image.LANCZOS)\n",
        "        img= img.convert('RGB')\n",
        "    numpydata = np.asarray(img)\n",
        "    R=[]\n",
        "    G=[]\n",
        "    B=[]\n",
        "    A=[]\n",
        "    for row in numpydata:\n",
        "        for pixel in row:\n",
        "            R.append(pixel[0])\n",
        "            G.append(pixel[1])\n",
        "            B.append(pixel[2])\n",
        "            try:\n",
        "                A.append(pixel[3])\n",
        "            except IndexError:\n",
        "                A.append(255)\n",
        "                pass\n",
        "    return (R,G,B,A,img.size)\n",
        "\n",
        "def encryptDecryptPixel(encryptResult,i,halfLength,colorKeyMatrix,color,isEncryption=True):\n",
        "    floc = findLoc(colorKeyMatrix,color[i])\n",
        "    sloc = findLoc(colorKeyMatrix,color[halfLength+i])\n",
        "    if isEncryption:\n",
        "        if EXTRA_DIFFUSE:\n",
        "            floc[0]=(floc[0]+9)%16\n",
        "            floc[1]=(floc[1]+9)%16\n",
        "            sloc[0]=(sloc[0]+9)%16\n",
        "            sloc[1]=(sloc[1]+9)%16\n",
        "        if floc[0] == sloc[0]:\n",
        "            encryptResult[i]=colorKeyMatrix[floc[0],(floc[1]+1)%16]\n",
        "            encryptResult[halfLength+i] = colorKeyMatrix[sloc[0],(sloc[1]+1)%16]\n",
        "        elif floc[1] == sloc[1]:\n",
        "            encryptResult[i]=colorKeyMatrix[(floc[0]+1)%16,floc[1]]\n",
        "            encryptResult[halfLength+i] = colorKeyMatrix[(sloc[0]+1)%16,sloc[1]]\n",
        "        else:\n",
        "            encryptResult[i]=colorKeyMatrix[floc[0],sloc[1]]\n",
        "            encryptResult[halfLength+i] = colorKeyMatrix[sloc[0],floc[1]]\n",
        "    else:\n",
        "        if EXTRA_DIFFUSE:\n",
        "            floc[0]=(floc[0]+7)%16\n",
        "            floc[1]=(floc[1]+7)%16\n",
        "            sloc[0]=(sloc[0]+7)%16\n",
        "            sloc[1]=(sloc[1]+7)%16\n",
        "        if floc[0] == sloc[0]:\n",
        "            encryptResult[i]=colorKeyMatrix[floc[0],(floc[1]+15)%16]\n",
        "            encryptResult[halfLength+i] = colorKeyMatrix[sloc[0],(sloc[1]+15)%16]\n",
        "        elif floc[1] == sloc[1]:\n",
        "            encryptResult[i]=colorKeyMatrix[(floc[0]+15)%16,floc[1]]\n",
        "            encryptResult[halfLength+i] = colorKeyMatrix[(sloc[0]+15)%16,sloc[1]]\n",
        "        else:\n",
        "            encryptResult[i]=colorKeyMatrix[floc[0],sloc[1]]\n",
        "            encryptResult[halfLength+i] = colorKeyMatrix[sloc[0],floc[1]]\n",
        "R,G,B,A,s=readRGB('/content/key.png',True)\n",
        "R=removeDuplicates(R)\n",
        "G=removeDuplicates(G)\n",
        "B=removeDuplicates(B)\n",
        "R.extend([x for x in range(256) if x not in R])\n",
        "RkeyMatrix = np.reshape(R, (16,16))\n",
        "G.extend([x for x in range(256) if x not in G])\n",
        "GkeyMatrix = np.reshape(G, (16,16))\n",
        "B.extend([x for x in range(256) if x not in B])\n",
        "BkeyMatrix = np.reshape(B, (16,16))\n",
        "log.debug('R key matrix:')\n",
        "log.debug(RkeyMatrix)\n",
        "log.debug('G key matrix:')\n",
        "log.debug(GkeyMatrix)\n",
        "log.debug('B key matrix:')\n",
        "log.debug(BkeyMatrix)"
      ],
      "metadata": {
        "id": "SlkqP39kIlAB"
      },
      "execution_count": null,
      "outputs": []
    },
    {
      "cell_type": "code",
      "source": [
        "def findLoc(mat,x):\n",
        "    coordinates = np.where(mat==x)\n",
        "    return [coordinates[0][0],coordinates[1][0]]\n",
        "def encrypt():\n",
        "    inp = input(\"Enter image file name to encrypt= \")\n",
        "    R,G,B,A,sizes=readRGB(inp,False)\n",
        "    log.info(sizes)\n",
        "    encryptedR=np.full(len(R),-1)\n",
        "    encryptedG=np.full(len(G),-1)\n",
        "    encryptedB=np.full(len(B),-1)\n",
        "    log.info(encryptedR.shape)\n",
        "    halfLength = len(R)//2\n",
        "    for i in range(halfLength):\n",
        "       encryptDecryptPixel(encryptedR,i,halfLength,RkeyMatrix,R)\n",
        "       encryptDecryptPixel(encryptedG,i,halfLength,RkeyMatrix,G)\n",
        "       encryptDecryptPixel(encryptedB,i,halfLength,RkeyMatrix,B)\n",
        "    fullImage1D=[]\n",
        "    log.debug(f'encryption {R=}')\n",
        "    log.debug(f'{encryptedR=}')\n",
        "    log.debug(f'encryption {G=}')\n",
        "    log.debug(f'encryption {B=}')\n",
        "    log.debug(f'encryption {A=}')\n",
        "    for i in range(len(encryptedR)):\n",
        "        fullImage1D.append([encryptedR[i],encryptedG[i],encryptedB[i],A[i]])\n",
        "    # print(fullImage1D)\n",
        "    x,y,z=sizes[0],sizes[1],4\n",
        "    imageArr = np.reshape(fullImage1D,(y,x,z))\n",
        "    # print(f'{imageArr=}')\n",
        "    image = Image.fromarray(imageArr.astype('uint8'),'RGBA')\n",
        "    # print(np.asarray(image))\n",
        "    image.save('enc.png')\n",
        "\n",
        "encrypt()\n",
        "print('Encrypt successful')"
      ],
      "metadata": {
        "colab": {
          "base_uri": "https://localhost:8080/"
        },
        "id": "HL5FAf5LKyXZ",
        "outputId": "323cb004-e2e8-40ce-f694-5e882ed970ea"
      },
      "execution_count": null,
      "outputs": [
        {
          "output_type": "stream",
          "name": "stdout",
          "text": [
            "Enter image file name to encrypt= /content/img.png\n",
            "Encrypt successful\n"
          ]
        }
      ]
    },
    {
      "cell_type": "code",
      "source": [
        "def decrypt():\n",
        "    #inp = input(\"Enter image file name to encrypt= \")\n",
        "    #R,G,B=readRGB(inp,False)\n",
        "    R,G,B,A,sizes=readRGB('/content/enc.png',False)\n",
        "    decryptedR=np.full(len(R),-1)\n",
        "    decryptedG=np.full(len(G),-1)\n",
        "    decryptedB=np.full(len(B),-1)\n",
        "    halfLength = len(R)//2\n",
        "    for i in range(halfLength):\n",
        "        #encryptDecryptPixel(decryptedR,i,halfLength,BkeyMatrix,R,False)\n",
        "        encryptDecryptPixel(decryptedR,i,halfLength,RkeyMatrix,R,False)\n",
        "        encryptDecryptPixel(decryptedG,i,halfLength,RkeyMatrix,G,False)\n",
        "        encryptDecryptPixel(decryptedB,i,halfLength,RkeyMatrix,B,False)\n",
        "        #encryptDecryptPixel(decryptedB,i,halfLength,GkeyMatrix,B,False)\n",
        "    fullImage1D=[]\n",
        "    log.debug(f'decryption {R=}')\n",
        "    log.debug(f'{decryptedR=}')\n",
        "    log.debug(f'decryption {G=}')\n",
        "    log.debug(f'decryption {B=}')\n",
        "    log.debug(f'decryption {A=}')\n",
        "    for i in range(len(decryptedR)):\n",
        "        fullImage1D.append([decryptedR[i],decryptedG[i],decryptedB[i],A[i]])\n",
        "    # print(\"fullImage1D:\",len(fullImage1D))\n",
        "    x,y,z=sizes[0],sizes[1],4\n",
        "    imageArr = np.reshape(fullImage1D,(y,x,z))\n",
        "    image = Image.fromarray(imageArr.astype('uint8'),'RGBA')\n",
        "    image.save('original.png')"
      ],
      "metadata": {
        "id": "-_ScX3fUM1Ea"
      },
      "execution_count": null,
      "outputs": []
    },
    {
      "cell_type": "code",
      "source": [
        "decrypt()\n",
        "print('Decrypt successful')"
      ],
      "metadata": {
        "colab": {
          "base_uri": "https://localhost:8080/"
        },
        "id": "7NRVYxKIM4-U",
        "outputId": "061cc436-60db-43d1-94ac-82445ade8e65"
      },
      "execution_count": null,
      "outputs": [
        {
          "output_type": "stream",
          "name": "stdout",
          "text": [
            "Decrypt successful\n"
          ]
        }
      ]
    }
  ]
}